{
 "cells": [
  {
   "cell_type": "code",
   "execution_count": 35,
   "metadata": {},
   "outputs": [],
   "source": [
    "# import pandas\n",
    "import numpy as np\n",
    "import pandas as pd\n",
    "# import matplotlin\n",
    "import matplotlib.pyplot as plt\n",
    "# import seaborn\n",
    "import seaborn as sns\n",
    "%matplotlib inline\n",
    "\n",
    "path = \"data/resultsnotantithetic.csv\"\n",
    "nms = [\"Type\",\"Itters\", \"Current_Size\", \"Total_Size\", \"Num_In\"]\n",
    "pandasdata = pd.read_csv(path, delimiter=',', names=nms)\n",
    "pandasdata = pandasdata[pandasdata.Current_Size != 0]"
   ]
  },
  {
   "cell_type": "code",
   "execution_count": 40,
   "metadata": {},
   "outputs": [
    {
     "data": {
      "image/png": "[encoded data removed]",
      "text/plain": [
       "<Figure size 432x288 with 1 Axes>"
      ]
     },
     "metadata": {},
     "output_type": "display_data"
    }
   ],
   "source": [
    "\n",
    "#Which ones should we examine?  The best I would think?  and the worse?\n",
    "\n",
    "area_cube = 9\n",
    "area_random = 8.3765\n",
    "\n",
    "itters = 5500\n",
    "Tot_sz = 10000\n",
    "Cur_sz = 10000\n",
    "\n",
    "areas = (pandasdata.Num_In / pandasdata.Total_Size)*area_random\n",
    "\n",
    "#print(areas)\n",
    "\n",
    "pandasdataArea = pandasdata\n",
    "\n",
    "pandasdataArea['Area'] = areas.where(pandasdataArea.Type == 'random', other = areas*(area_cube/area_random))\n",
    "\n",
    "def create_boxplot(df, i, ts, cs):\n",
    "\n",
    "    data5500itters = df[df.Itters == i] # Set the number of itteration\n",
    "    data5500itters = data5500itters[data5500itters.Type != 'random2']\n",
    "    data5500i30000p = data5500itters[data5500itters.Total_Size == ts]# Keep only those with the total size 10000\n",
    "    data5500i30000p = data5500itters[data5500itters.Current_Size == cs]# Keep only those with the total size 10000\n",
    "#Using pandas\n",
    "# fig = data5500itters30000pnts.boxplot(by = 'Type', column = 'Area')\n",
    "\n",
    "    return sns.boxplot(y='Area', x='Type', data=data5500i30000p, width=0.5,palette=\"colorblind\").set_title(\"Comparison of Area of Madelbrot Set\\n s = 10000 and i = 5500 \")\n",
    "\n",
    "boxplt = create_boxplot(pandasdataArea, itters, Tot_sz, Cur_sz)\n",
    "\n",
    "\n",
    "#random_data = pandasdata[pandasdata.Type == 'random1']\n",
    "#antithetic_data = pandasdata[pandasdata.Type == 'random2']\n",
    "#del random_data['Type']\n",
    "#del antithetic_data['Type']\n"
   ]
  },
  {
   "cell_type": "code",
   "execution_count": 2,
   "metadata": {},
   "outputs": [
    {
     "data": {
      "text/html": [
       "<div>\n",
       "<style scoped>\n",
       "    .dataframe tbody tr th:only-of-type {\n",
       "        vertical-align: middle;\n",
       "    }\n",
       "\n",
       "    .dataframe tbody tr th {\n",
       "        vertical-align: top;\n",
       "    }\n",
       "\n",
       "    .dataframe thead th {\n",
       "        text-align: right;\n",
       "    }\n",
       "</style>\n",
       "<table border=\"1\" class=\"dataframe\">\n",
       "  <thead>\n",
       "    <tr style=\"text-align: right;\">\n",
       "      <th></th>\n",
       "      <th>Itters</th>\n",
       "      <th>Current_Size</th>\n",
       "      <th>Total_Size</th>\n",
       "      <th>Num_In</th>\n",
       "    </tr>\n",
       "  </thead>\n",
       "  <tbody>\n",
       "  </tbody>\n",
       "</table>\n",
       "</div>"
      ],
      "text/plain": [
       "Empty DataFrame\n",
       "Columns: [Itters, Current_Size, Total_Size, Num_In]\n",
       "Index: []"
      ]
     },
     "execution_count": 2,
     "metadata": {},
     "output_type": "execute_result"
    }
   ],
   "source": []
  },
  {
   "cell_type": "code",
   "execution_count": null,
   "metadata": {},
   "outputs": [],
   "source": []
  }
 ],
 "metadata": {
  "kernelspec": {
   "display_name": "Python 3",
   "language": "python",
   "name": "python3"
  },
  "language_info": {
   "codemirror_mode": {
    "name": "ipython",
    "version": 3
   },
   "file_extension": ".py",
   "mimetype": "text/x-python",
   "name": "python",
   "nbconvert_exporter": "python",
   "pygments_lexer": "ipython3",
   "version": "3.6.6"
  }
 },
 "nbformat": 4,
 "nbformat_minor": 2
}
